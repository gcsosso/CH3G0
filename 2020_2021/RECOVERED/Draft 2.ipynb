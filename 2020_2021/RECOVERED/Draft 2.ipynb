{
 "cells": [
  {
   "cell_type": "markdown",
   "metadata": {},
   "source": [
    "## 9. Minimal working example\n",
    "\n",
    "Below is a minimal example on performing a short MD simulation on a the NVT ensemple, using one-component Lennard-Jones. "
   ]
  },
  {
   "cell_type": "code",
   "execution_count": 1,
   "metadata": {
    "scrolled": true
   },
   "outputs": [
    {
     "name": "stdout",
     "output_type": "stream",
     "text": [
      "HOOMD-blue 2.9.0 DOUBLE HPMC_MIXED TBB SSE SSE2 SSE3 \n",
      "Compiled: 02/04/2020\n",
      "Copyright (c) 2009-2019 The Regents of the University of Michigan.\n",
      "-----\n",
      "You are using HOOMD-blue. Please cite the following:\n",
      "* J A Anderson, C D Lorenz, and A Travesset. \"General purpose molecular dynamics\n",
      "  simulations fully implemented on graphics processing units\", Journal of\n",
      "  Computational Physics 227 (2008) 5342--5359\n",
      "* J Glaser, T D Nguyen, J A Anderson, P Lui, F Spiga, J A Millan, D C Morse, and\n",
      "  S C Glotzer. \"Strong scaling of general-purpose molecular dynamics simulations\n",
      "  on GPUs\", Computer Physics Communications 192 (2015) 97--107\n",
      "-----\n",
      "HOOMD-blue is running on the CPU\n"
     ]
    }
   ],
   "source": [
    "import hoomd\n",
    "from hoomd import md\n",
    "hoomd.context.initialize('--mode=cpu');"
   ]
  },
  {
   "cell_type": "code",
   "execution_count": 2,
   "metadata": {},
   "outputs": [],
   "source": [
    "import numpy as np\n",
    "from matplotlib import pyplot \n",
    "import ase # Atomic simulation environment\n",
    "import ase.io\n",
    "from ase.visualize import view"
   ]
  },
  {
   "cell_type": "markdown",
   "metadata": {},
   "source": [
    "### 1. Set up the system\n",
    "\n",
    "Creating a 10x10x10 simple cubic lattice of particles A & B."
   ]
  },
  {
   "cell_type": "code",
   "execution_count": 3,
   "metadata": {},
   "outputs": [],
   "source": [
    "initial_cell = hoomd.lattice.unitcell(N = 2, # two atoms in the initial cell\n",
    "                            a1 = [3,0,0],\n",
    "                            a2 = [0,3,0],\n",
    "                            a3 = [0,0,3], # these define a cubic box of length 3.0\n",
    "                            position = [[0.0,0.0,0.0], [1.5, 1.5, 1.5]], # set positions for the two atoms (they should not be placed on top of each other)\n",
    "                            type_name = ['A', 'B'], # one of the atoms will be called type 'A', the other type 'B'\n",
    "                            mass = [1.0, 1.0], # \n",
    "                            );"
   ]
  },
  {
   "cell_type": "code",
   "execution_count": 4,
   "metadata": {},
   "outputs": [
    {
     "name": "stdout",
     "output_type": "stream",
     "text": [
      "notice(2): Group \"all\" created containing 2000 particles\n"
     ]
    }
   ],
   "source": [
    "system=hoomd.init.create_lattice(initial_cell,n=10) "
   ]
  },
  {
   "cell_type": "markdown",
   "metadata": {},
   "source": [
    "### 2. Cell Visualisation\n",
    "\n",
    "The intial configuration of out 10x10x10 cell. "
   ]
  },
  {
   "cell_type": "code",
   "execution_count": 5,
   "metadata": {},
   "outputs": [],
   "source": [
    "def save_config(hoomd_system,atom_types=[\"C\",\"F\"]):\n",
    "    \n",
    "    lattice=np.array([hoomd_system.box.get_lattice_vector(i=i) for i in range(3)])\n",
    "    x2 = int(lattice[[0],[0]]) / 2\n",
    "    y2 = int(lattice[[1],[1]]) / 2\n",
    "    z2 = int(lattice[[2],[2]]) / 2\n",
    "\n",
    "    ase_atoms=ase.Atoms(pbc=[(True,True,True)],cell=lattice)\n",
    "    \n",
    "    for i in range(system.particles.types.pdata.getN()):\n",
    "        i_type = system.particles.types.pdata.getType(i)\n",
    "        i_pos = hoomd_system.particles.pdata.getPosition(i)\n",
    "        i_pos.x = i_pos.x + x2 ; i_pos.y = i_pos.y + y2 ; i_pos.z = i_pos.z + z2\n",
    "        ase_atoms.append(ase.Atom(atom_types[i_type],position=[i_pos.x,i_pos.y,i_pos.z]))\n",
    "    return ase_atoms"
   ]
  },
  {
   "cell_type": "code",
   "execution_count": 6,
   "metadata": {},
   "outputs": [],
   "source": [
    "current_config = save_config(system)\n",
    "ase.io.write(\"system.pdb\", current_config)"
   ]
  },
  {
   "cell_type": "code",
   "execution_count": 7,
   "metadata": {},
   "outputs": [
    {
     "data": {
      "application/vnd.jupyter.widget-view+json": {
       "model_id": "5f31943d5ba840198d92c7ffdc3e207a",
       "version_major": 2,
       "version_minor": 0
      },
      "text/plain": [
       "NGLWidget()"
      ]
     },
     "metadata": {},
     "output_type": "display_data"
    }
   ],
   "source": [
    "import pytraj as pt\n",
    "import nglview as nv\n",
    "p_traj = pt.load('system.pdb')\n",
    "p_view = nv.show_pytraj(p_traj)\n",
    "p_view.add_unitcell()\n",
    "p_view"
   ]
  },
  {
   "cell_type": "markdown",
   "metadata": {},
   "source": [
    "### 3. Define interaction between particles\n",
    "Setting the cut off parameter as well as  $\\sigma$ and $\\epsilon$."
   ]
  },
  {
   "cell_type": "code",
   "execution_count": 8,
   "metadata": {},
   "outputs": [],
   "source": [
    "# Specify Lennard-Jones interactions between particle pairs\n",
    "\n",
    "nl = md.nlist.cell() # atomic distances will have to be calculated first\n",
    "\n",
    "lj = md.pair.lj(r_cut=2.5, nlist=nl)# define potential\n",
    "\n",
    "lj.pair_coeff.set('A', 'A', epsilon=1.0, sigma=1.0)\n",
    "lj.pair_coeff.set('A', 'B', epsilon=0.6, sigma=0.9) # set AB epsilon smaller than either AA or BB epsilon. \n",
    "lj.pair_coeff.set('B', 'B', epsilon=0.9, sigma=0.8)\n"
   ]
  },
  {
   "cell_type": "markdown",
   "metadata": {},
   "source": [
    "### 4. Set up the MD simulation and the ensemble"
   ]
  },
  {
   "cell_type": "code",
   "execution_count": 9,
   "metadata": {},
   "outputs": [
    {
     "data": {
      "text/plain": [
       "<hoomd.md.integrate.mode_standard at 0x7fec96b2e5c0>"
      ]
     },
     "execution_count": 9,
     "metadata": {},
     "output_type": "execute_result"
    }
   ],
   "source": [
    "all = hoomd.group.all() # all particles are to be treated the same during the molecular dynamics steps\n",
    "\n",
    "md.integrate.mode_standard(dt=0.005) # the length of one MD timestep the integrator will use"
   ]
  },
  {
   "cell_type": "code",
   "execution_count": 10,
   "metadata": {},
   "outputs": [
    {
     "name": "stdout",
     "output_type": "stream",
     "text": [
      "notice(2): integrate.langevin/bd is using specified gamma values\n",
      "notice(2): -- Neighborlist exclusion statistics -- :\n",
      "notice(2): Particles with 0 exclusions             : 2000\n",
      "notice(2): Neighbors included by diameter          : no\n",
      "notice(2): Neighbors excluded when in the same body: no\n",
      "** starting run **\n",
      "Time 00:00:01 | Step 1000 / 1000 | TPS 1428.51 | ETA 00:00:00\n",
      "Average TPS: 1426.62\n",
      "---------\n",
      "-- Neighborlist stats:\n",
      "89 normal updates / 10 forced updates / 0 dangerous updates\n",
      "n_neigh_min: 0 / n_neigh_max: 15 / n_neigh_avg: 3.811\n",
      "shortest rebuild period: 9\n",
      "-- Cell list stats:\n",
      "Dimension: 10, 10, 10\n",
      "n_min    : 0 / n_max: 8 / n_avg: 2\n",
      "** run complete **\n",
      "** starting run **\n",
      "Time 00:00:01 | Step 2000 / 2000 | TPS 1499.29 | ETA 00:00:00\n",
      "Average TPS: 1494.3\n",
      "---------\n",
      "-- Neighborlist stats:\n",
      "95 normal updates / 10 forced updates / 0 dangerous updates\n",
      "n_neigh_min: 0 / n_neigh_max: 27 / n_neigh_avg: 9.0225\n",
      "shortest rebuild period: 9\n",
      "-- Cell list stats:\n",
      "Dimension: 7, 7, 7\n",
      "n_min    : 0 / n_max: 14 / n_avg: 5.8309\n",
      "** run complete **\n"
     ]
    }
   ],
   "source": [
    "# Integrate at constant temperature\n",
    "nvt = hoomd.md.integrate.langevin(group=hoomd.group.all(), kT=1.0, seed=4)\n",
    "hoomd.run(1000) #run for the first 1000 time steps in NVT\n",
    "nvt.disable()\n",
    "\n",
    "# Integrate at constant pressure\n",
    "npt = hoomd.md.integrate.npt(group=all, kT=0.8, tau=3.0, P=0.1, tauP = 3.0, couple=\"xyz\")\n",
    "hoomd.run(1000) #run the next 1000 time steps in NPT"
   ]
  },
  {
   "cell_type": "markdown",
   "metadata": {},
   "source": [
    "Parameters of the integrator can be changed between runs, e.g.: (Don't forget, that on changing the parameters you will need re-equilibrate the system!)"
   ]
  },
  {
   "cell_type": "code",
   "execution_count": 11,
   "metadata": {},
   "outputs": [],
   "source": [
    "#nvt.set_params(kT=0.6)\n",
    "npt.set_params(P=0.8)"
   ]
  },
  {
   "cell_type": "markdown",
   "metadata": {},
   "source": [
    "### 5. Visualising the equilibriation"
   ]
  },
  {
   "cell_type": "code",
   "execution_count": 12,
   "metadata": {},
   "outputs": [],
   "source": [
    "quantities=['volume','lx','ly','lz','potential_energy','kinetic_energy','temperature','pressure']"
   ]
  },
  {
   "cell_type": "code",
   "execution_count": 13,
   "metadata": {},
   "outputs": [
    {
     "data": {
      "text/plain": [
       "<hoomd.analyze.log at 0x7fec8daee470>"
      ]
     },
     "execution_count": 13,
     "metadata": {},
     "output_type": "execute_result"
    }
   ],
   "source": [
    "hoomd.analyze.log(filename=\"log-output.4.log\",\n",
    "                  quantities=quantities,\n",
    "                  period=100,\n",
    "                  overwrite=True) # keep appending the existing file"
   ]
  },
  {
   "cell_type": "code",
   "execution_count": 14,
   "metadata": {},
   "outputs": [],
   "source": [
    "d = hoomd.dump.dcd(\"dump.dcd\", period=200, group=all, overwrite=True, unwrap_full=False);"
   ]
  },
  {
   "cell_type": "code",
   "execution_count": 15,
   "metadata": {},
   "outputs": [
    {
     "name": "stdout",
     "output_type": "stream",
     "text": [
      "** starting run **\n",
      "Time 00:00:11 | Step 4786 / 52000 | TPS 278.35 | ETA 00:02:49\n",
      "Time 00:00:21 | Step 7788 / 52000 | TPS 300.174 | ETA 00:02:27\n",
      "Time 00:00:31 | Step 10550 / 52000 | TPS 276.147 | ETA 00:02:30\n",
      "Time 00:00:41 | Step 13715 / 52000 | TPS 316.454 | ETA 00:02:00\n",
      "Time 00:00:51 | Step 16447 / 52000 | TPS 273.066 | ETA 00:02:10\n",
      "Time 00:01:01 | Step 19397 / 52000 | TPS 294.971 | ETA 00:01:50\n",
      "Time 00:01:11 | Step 22182 / 52000 | TPS 278.45 | ETA 00:01:47\n",
      "Time 00:01:21 | Step 25016 / 52000 | TPS 283.379 | ETA 00:01:35\n",
      "Time 00:01:31 | Step 27900 / 52000 | TPS 288.374 | ETA 00:01:23\n",
      "Time 00:01:41 | Step 30650 / 52000 | TPS 274.981 | ETA 00:01:17\n",
      "Time 00:01:51 | Step 33489 / 52000 | TPS 283.862 | ETA 00:01:05\n",
      "Time 00:02:01 | Step 36235 / 52000 | TPS 274.577 | ETA 00:00:57\n",
      "Time 00:02:11 | Step 39027 / 52000 | TPS 279.154 | ETA 00:00:46\n",
      "Time 00:02:21 | Step 41751 / 52000 | TPS 272.356 | ETA 00:00:37\n",
      "Time 00:02:31 | Step 44508 / 52000 | TPS 275.67 | ETA 00:00:27\n",
      "Time 00:02:41 | Step 47276 / 52000 | TPS 276.467 | ETA 00:00:17\n",
      "Time 00:02:51 | Step 49998 / 52000 | TPS 271.843 | ETA 00:00:07\n",
      "Time 00:02:59 | Step 52000 / 52000 | TPS 274.295 | ETA 00:00:00\n",
      "Average TPS: 281.921\n",
      "---------\n",
      "-- Neighborlist stats:\n",
      "4154 normal updates / 500 forced updates / 0 dangerous updates\n",
      "n_neigh_min: 0 / n_neigh_max: 134 / n_neigh_avg: 50.7185\n",
      "shortest rebuild period: 6\n",
      "-- Cell list stats:\n",
      "Dimension: 4, 4, 4\n",
      "n_min    : 22 / n_max: 47 / n_avg: 31.25\n",
      "** run complete **\n"
     ]
    }
   ],
   "source": [
    "hoomd.run(50000)"
   ]
  },
  {
   "cell_type": "code",
   "execution_count": 16,
   "metadata": {},
   "outputs": [],
   "source": [
    "current_config = save_config(system)\n",
    "ase.io.write(\"system.extxyz\", current_config, format=\"extxyz\")\n",
    "ase.io.write(\"system.pdb\", current_config)"
   ]
  },
  {
   "cell_type": "code",
   "execution_count": 17,
   "metadata": {},
   "outputs": [
    {
     "data": {
      "application/vnd.jupyter.widget-view+json": {
       "model_id": "9ff348c80901407287d4a810c9b168a5",
       "version_major": 2,
       "version_minor": 0
      },
      "text/plain": [
       "NGLWidget(count=250)"
      ]
     },
     "metadata": {},
     "output_type": "display_data"
    }
   ],
   "source": [
    "p_traj = pt.load('dump.dcd', top='system.pdb')\n",
    "p_view = nv.show_pytraj(p_traj)\n",
    "p_view"
   ]
  },
  {
   "cell_type": "markdown",
   "metadata": {},
   "source": [
    "### 8. Analysing results"
   ]
  },
  {
   "cell_type": "code",
   "execution_count": 18,
   "metadata": {},
   "outputs": [],
   "source": [
    "data = np.genfromtxt(fname='log-output.4.log', skip_header=True)\n",
    "# Remember:\n",
    "# quantities=['volume','lx','ly','lz','potential_energy','kinetic_energy','temperature','pressure']"
   ]
  },
  {
   "cell_type": "code",
   "execution_count": 19,
   "metadata": {},
   "outputs": [
    {
     "data": {
      "text/plain": [
       "Text(0, 0.5, 'volume')"
      ]
     },
     "execution_count": 19,
     "metadata": {},
     "output_type": "execute_result"
    },
    {
     "data": {
      "image/png": "[encoded data removed]",
      "text/plain": [
       "<Figure size 1600x800 with 1 Axes>"
      ]
     },
     "metadata": {
      "needs_background": "light"
     },
     "output_type": "display_data"
    }
   ],
   "source": [
    "pyplot.figure(figsize=(8,4), dpi=200)\n",
    "pyplot.plot(data[:,1])\n",
    "pyplot.xlabel('time step')\n",
    "pyplot.ylabel('volume')"
   ]
  },
  {
   "cell_type": "code",
   "execution_count": 20,
   "metadata": {},
   "outputs": [],
   "source": [
    "# Run for 10,000 time steps\n",
    "#hoomd.run(10e3)"
   ]
  }
 ],
 "metadata": {
  "kernelspec": {
   "display_name": "Python 3",
   "language": "python",
   "name": "python3"
  },
  "language_info": {
   "codemirror_mode": {
    "name": "ipython",
    "version": 3
   },
   "file_extension": ".py",
   "mimetype": "text/x-python",
   "name": "python",
   "nbconvert_exporter": "python",
   "pygments_lexer": "ipython3",
   "version": "3.7.3"
  }
 },
 "nbformat": 4,
 "nbformat_minor": 4
}
