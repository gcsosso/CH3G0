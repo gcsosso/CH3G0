{
 "cells": [
  {
   "cell_type": "markdown",
   "metadata": {},
   "source": [
    "## 9. Minimal working example\n",
    "\n",
    "Below is a minimal example on performing a short MD simulation on a the NVT ensemple, using one-component Lennard-Jones. "
   ]
  },
  {
   "cell_type": "code",
   "execution_count": 1,
   "metadata": {
    "scrolled": false
   },
   "outputs": [
    {
     "name": "stdout",
     "output_type": "stream",
     "text": [
      "HOOMD-blue 2.9.0 DOUBLE HPMC_MIXED TBB SSE SSE2 SSE3 \n",
      "Compiled: 02/04/2020\n",
      "Copyright (c) 2009-2019 The Regents of the University of Michigan.\n",
      "-----\n",
      "You are using HOOMD-blue. Please cite the following:\n",
      "* J A Anderson, C D Lorenz, and A Travesset. \"General purpose molecular dynamics\n",
      "  simulations fully implemented on graphics processing units\", Journal of\n",
      "  Computational Physics 227 (2008) 5342--5359\n",
      "* J Glaser, T D Nguyen, J A Anderson, P Lui, F Spiga, J A Millan, D C Morse, and\n",
      "  S C Glotzer. \"Strong scaling of general-purpose molecular dynamics simulations\n",
      "  on GPUs\", Computer Physics Communications 192 (2015) 97--107\n",
      "-----\n",
      "HOOMD-blue is running on the CPU\n"
     ]
    }
   ],
   "source": [
    "import hoomd\n",
    "from hoomd import md\n",
    "hoomd.context.initialize('--mode=cpu');"
   ]
  },
  {
   "cell_type": "code",
   "execution_count": 2,
   "metadata": {},
   "outputs": [],
   "source": [
    "import numpy as np\n",
    "from matplotlib import pyplot \n",
    "import ase # Atomic simulation environment\n",
    "import ase.io\n",
    "from ase.visualize import view"
   ]
  },
  {
   "cell_type": "markdown",
   "metadata": {},
   "source": [
    "### 1. Set up the system\n",
    "\n",
    "Creating a 10x10x10 simple cubic lattice of particles A & B."
   ]
  },
  {
   "cell_type": "code",
   "execution_count": 3,
   "metadata": {},
   "outputs": [],
   "source": [
    "initial_cell = hoomd.lattice.unitcell(N = 2, # two atoms in the initial cell\n",
    "                            a1 = [3,0,0],\n",
    "                            a2 = [0,3,0],\n",
    "                            a3 = [0,0,3], # these define a cubic box of length 3.0\n",
    "                            position = [[0.0,0.0,0.0], [1.5, 1.5, 1.5]], # set positions for the two atoms (they should not be placed on top of each other)\n",
    "                            type_name = ['A', 'B'], # one of the atoms will be called type 'A', the other type 'B'\n",
    "                            mass = [1.0, 1.0], # \n",
    "                            );"
   ]
  },
  {
   "cell_type": "code",
   "execution_count": 4,
   "metadata": {},
   "outputs": [
    {
     "name": "stdout",
     "output_type": "stream",
     "text": [
      "notice(2): Group \"all\" created containing 2000 particles\n"
     ]
    }
   ],
   "source": [
    "system=hoomd.init.create_lattice(initial_cell,n=10) "
   ]
  },
  {
   "cell_type": "markdown",
   "metadata": {},
   "source": [
    "### 2. Cell Visualisation\n",
    "\n",
    "The intial configuration of out 10x10x10 cell. "
   ]
  },
  {
   "cell_type": "code",
   "execution_count": 5,
   "metadata": {},
   "outputs": [],
   "source": [
    "def save_config(hoomd_system,atom_types=[\"C\",\"F\"]):\n",
    "    \n",
    "    lattice=np.array([hoomd_system.box.get_lattice_vector(i=i) for i in range(3)])\n",
    "    x2 = int(lattice[[0],[0]]) / 2\n",
    "    y2 = int(lattice[[1],[1]]) / 2\n",
    "    z2 = int(lattice[[2],[2]]) / 2\n",
    "\n",
    "    ase_atoms=ase.Atoms(pbc=[(True,True,True)],cell=lattice)\n",
    "    \n",
    "    for i in range(system.particles.types.pdata.getN()):\n",
    "        i_type = system.particles.types.pdata.getType(i)\n",
    "        i_pos = hoomd_system.particles.pdata.getPosition(i)\n",
    "        i_pos.x = i_pos.x + x2 ; i_pos.y = i_pos.y + y2 ; i_pos.z = i_pos.z + z2\n",
    "        ase_atoms.append(ase.Atom(atom_types[i_type],position=[i_pos.x,i_pos.y,i_pos.z]))\n",
    "    return ase_atoms"
   ]
  },
  {
   "cell_type": "code",
   "execution_count": 6,
   "metadata": {},
   "outputs": [],
   "source": [
    "current_config = save_config(system)\n",
    "ase.io.write(\"system.pdb\", current_config)"
   ]
  },
  {
   "cell_type": "code",
   "execution_count": 7,
   "metadata": {},
   "outputs": [
    {
     "data": {
      "application/vnd.jupyter.widget-view+json": {
       "model_id": "1d7b0a0ae949408fa0c545bd79f6d31e",
       "version_major": 2,
       "version_minor": 0
      },
      "text/plain": [
       "NGLWidget()"
      ]
     },
     "metadata": {},
     "output_type": "display_data"
    }
   ],
   "source": [
    "import pytraj as pt\n",
    "import nglview as nv\n",
    "p_traj = pt.load('system.pdb')\n",
    "p_view = nv.show_pytraj(p_traj)\n",
    "p_view.add_unitcell()\n",
    "p_view"
   ]
  },
  {
   "cell_type": "markdown",
   "metadata": {},
   "source": [
    "### 3. Define interaction between particles\n",
    "Setting the cut off parameter as well as  $\\sigma$ and $\\epsilon$."
   ]
  },
  {
   "cell_type": "code",
   "execution_count": 8,
   "metadata": {},
   "outputs": [],
   "source": [
    "# Specify Lennard-Jones interactions between particle pairs\n",
    "\n",
    "nl = md.nlist.cell() # atomic distances will have to be calculated first\n",
    "\n",
    "lj = md.pair.lj(r_cut=2.5, nlist=nl)# define potential\n",
    "\n",
    "lj.pair_coeff.set('A', 'A', epsilon=1.0, sigma=1.0)\n",
    "lj.pair_coeff.set('A', 'B', epsilon=0.6, sigma=0.9) # set AB epsilon smaller than either AA or BB epsilon. \n",
    "lj.pair_coeff.set('B', 'B', epsilon=0.9, sigma=0.8)\n"
   ]
  },
  {
   "cell_type": "markdown",
   "metadata": {},
   "source": [
    "### 4. Set up the MD simulation and the ensemble"
   ]
  },
  {
   "cell_type": "code",
   "execution_count": 9,
   "metadata": {},
   "outputs": [
    {
     "data": {
      "text/plain": [
       "<hoomd.md.integrate.mode_standard at 0x7f6bf995eb70>"
      ]
     },
     "execution_count": 9,
     "metadata": {},
     "output_type": "execute_result"
    }
   ],
   "source": [
    "all = hoomd.group.all() # all particles are to be treated the same during the molecular dynamics steps\n",
    "\n",
    "md.integrate.mode_standard(dt=0.005) # the length of one MD timestep the integrator will use"
   ]
  },
  {
   "cell_type": "code",
   "execution_count": 10,
   "metadata": {},
   "outputs": [
    {
     "name": "stdout",
     "output_type": "stream",
     "text": [
      "notice(2): integrate.langevin/bd is using specified gamma values\n",
      "notice(2): -- Neighborlist exclusion statistics -- :\n",
      "notice(2): Particles with 0 exclusions             : 2000\n",
      "notice(2): Neighbors included by diameter          : no\n",
      "notice(2): Neighbors excluded when in the same body: no\n",
      "** starting run **\n",
      "Time 00:00:01 | Step 1000 / 1000 | TPS 1444.33 | ETA 00:00:00\n",
      "Average TPS: 1439.2\n",
      "---------\n",
      "-- Neighborlist stats:\n",
      "89 normal updates / 10 forced updates / 0 dangerous updates\n",
      "n_neigh_min: 0 / n_neigh_max: 15 / n_neigh_avg: 3.811\n",
      "shortest rebuild period: 9\n",
      "-- Cell list stats:\n",
      "Dimension: 10, 10, 10\n",
      "n_min    : 0 / n_max: 8 / n_avg: 2\n",
      "** run complete **\n",
      "** starting run **\n",
      "Time 00:00:01 | Step 2000 / 2000 | TPS 1542.64 | ETA 00:00:00\n",
      "Average TPS: 1541.08\n",
      "---------\n",
      "-- Neighborlist stats:\n",
      "95 normal updates / 10 forced updates / 0 dangerous updates\n",
      "n_neigh_min: 0 / n_neigh_max: 27 / n_neigh_avg: 9.0225\n",
      "shortest rebuild period: 9\n",
      "-- Cell list stats:\n",
      "Dimension: 7, 7, 7\n",
      "n_min    : 0 / n_max: 14 / n_avg: 5.8309\n",
      "** run complete **\n"
     ]
    }
   ],
   "source": [
    "# Integrate at constant temperature\n",
    "nvt = hoomd.md.integrate.langevin(group=hoomd.group.all(), kT=1.0, seed=4)\n",
    "hoomd.run(1000) #run for the first 1000 time steps in NVT\n",
    "nvt.disable()\n",
    "\n",
    "# Integrate at constant pressure\n",
    "npt = hoomd.md.integrate.npt(group=all, kT=0.8, tau=3.0, P=0.1, tauP = 3.0, couple=\"xyz\")\n",
    "hoomd.run(1000) #run the next 1000 time steps in NPT"
   ]
  },
  {
   "cell_type": "markdown",
   "metadata": {},
   "source": [
    "Parameters of the integrator can be changed between runs, e.g.: (Don't forget, that on changing the parameters you will need re-equilibrate the system!)"
   ]
  },
  {
   "cell_type": "code",
   "execution_count": 11,
   "metadata": {},
   "outputs": [],
   "source": [
    "#nvt.set_params(kT=0.6)\n",
    "npt.set_params(P=0.8)"
   ]
  },
  {
   "cell_type": "markdown",
   "metadata": {},
   "source": [
    "### 5. Visualising the equilibriation"
   ]
  },
  {
   "cell_type": "code",
   "execution_count": 12,
   "metadata": {},
   "outputs": [],
   "source": [
    "quantities=['volume','lx','ly','lz','potential_energy','kinetic_energy','temperature','pressure']"
   ]
  },
  {
   "cell_type": "code",
   "execution_count": 13,
   "metadata": {},
   "outputs": [
    {
     "data": {
      "text/plain": [
       "<hoomd.analyze.log at 0x7f6bf88e4208>"
      ]
     },
     "execution_count": 13,
     "metadata": {},
     "output_type": "execute_result"
    }
   ],
   "source": [
    "hoomd.analyze.log(filename=\"log-output.4.log\",\n",
    "                  quantities=quantities,\n",
    "                  period=100,\n",
    "                  overwrite=True) # keep appending the existing file"
   ]
  },
  {
   "cell_type": "code",
   "execution_count": 14,
   "metadata": {},
   "outputs": [],
   "source": [
    "d = hoomd.dump.dcd(\"dump.dcd\", period=200, group=all, overwrite=True, unwrap_full=False);"
   ]
  },
  {
   "cell_type": "code",
   "execution_count": 15,
   "metadata": {},
   "outputs": [
    {
     "name": "stdout",
     "output_type": "stream",
     "text": [
      "** starting run **\n",
      "Time 00:00:11 | Step 4766 / 102000 | TPS 276.549 | ETA 00:05:51\n",
      "Time 00:00:21 | Step 7907 / 102000 | TPS 314.096 | ETA 00:04:59\n",
      "Time 00:00:31 | Step 10539 / 102000 | TPS 263.157 | ETA 00:05:47\n",
      "Time 00:00:41 | Step 13656 / 102000 | TPS 311.673 | ETA 00:04:43\n",
      "Time 00:00:51 | Step 16363 / 102000 | TPS 270.665 | ETA 00:05:16\n",
      "Time 00:01:01 | Step 19303 / 102000 | TPS 293.989 | ETA 00:04:41\n",
      "Time 00:01:11 | Step 22106 / 102000 | TPS 280.256 | ETA 00:04:45\n",
      "Time 00:01:21 | Step 24925 / 102000 | TPS 281.838 | ETA 00:04:33\n",
      "Time 00:01:31 | Step 27788 / 102000 | TPS 286.258 | ETA 00:04:19\n",
      "Time 00:01:41 | Step 30536 / 102000 | TPS 274.774 | ETA 00:04:20\n",
      "Time 00:01:51 | Step 33351 / 102000 | TPS 281.432 | ETA 00:04:03\n",
      "Time 00:02:01 | Step 36056 / 102000 | TPS 270.251 | ETA 00:04:04\n",
      "Time 00:02:11 | Step 38837 / 102000 | TPS 278.051 | ETA 00:03:47\n",
      "Time 00:02:21 | Step 41537 / 102000 | TPS 269.968 | ETA 00:03:43\n",
      "Time 00:02:31 | Step 44287 / 102000 | TPS 274.924 | ETA 00:03:29\n",
      "Time 00:02:41 | Step 47005 / 102000 | TPS 271.735 | ETA 00:03:22\n",
      "Time 00:02:51 | Step 49704 / 102000 | TPS 269.877 | ETA 00:03:13\n",
      "Time 00:03:01 | Step 52398 / 102000 | TPS 269.147 | ETA 00:03:04\n",
      "Time 00:03:11 | Step 55094 / 102000 | TPS 269.547 | ETA 00:02:54\n",
      "Time 00:03:21 | Step 57795 / 102000 | TPS 270.06 | ETA 00:02:43\n",
      "Time 00:03:31 | Step 60427 / 102000 | TPS 263.138 | ETA 00:02:37\n",
      "Time 00:03:41 | Step 63126 / 102000 | TPS 269.852 | ETA 00:02:24\n",
      "Time 00:03:51 | Step 65813 / 102000 | TPS 268.432 | ETA 00:02:14\n",
      "Time 00:04:01 | Step 68524 / 102000 | TPS 271.067 | ETA 00:02:03\n",
      "Time 00:04:11 | Step 71217 / 102000 | TPS 269.265 | ETA 00:01:54\n",
      "Time 00:04:21 | Step 73905 / 102000 | TPS 268.739 | ETA 00:01:44\n",
      "Time 00:04:31 | Step 76600 / 102000 | TPS 269.336 | ETA 00:01:34\n",
      "Time 00:04:41 | Step 79294 / 102000 | TPS 269.35 | ETA 00:01:24\n",
      "Time 00:04:51 | Step 81992 / 102000 | TPS 269.722 | ETA 00:01:14\n",
      "Time 00:05:01 | Step 84675 / 102000 | TPS 268.253 | ETA 00:01:04\n",
      "Time 00:05:11 | Step 87372 / 102000 | TPS 269.651 | ETA 00:00:54\n",
      "Time 00:05:21 | Step 90067 / 102000 | TPS 269.458 | ETA 00:00:44\n",
      "Time 00:05:31 | Step 92784 / 102000 | TPS 271.681 | ETA 00:00:33\n",
      "Time 00:05:41 | Step 95492 / 102000 | TPS 270.754 | ETA 00:00:24\n",
      "Time 00:05:51 | Step 98206 / 102000 | TPS 271.372 | ETA 00:00:13\n",
      "Time 00:06:01 | Step 100900 / 102000 | TPS 269.35 | ETA 00:00:04\n",
      "Time 00:06:05 | Step 102000 / 102000 | TPS 271.811 | ETA 00:00:00\n",
      "Average TPS: 274.624\n",
      "---------\n",
      "-- Neighborlist stats:\n",
      "8353 normal updates / 1000 forced updates / 0 dangerous updates\n",
      "n_neigh_min: 0 / n_neigh_max: 134 / n_neigh_avg: 53.862\n",
      "shortest rebuild period: 6\n",
      "-- Cell list stats:\n",
      "Dimension: 4, 4, 4\n",
      "n_min    : 19 / n_max: 48 / n_avg: 31.25\n",
      "** run complete **\n"
     ]
    }
   ],
   "source": [
    "hoomd.run(100000)"
   ]
  },
  {
   "cell_type": "code",
   "execution_count": 16,
   "metadata": {},
   "outputs": [],
   "source": [
    "current_config = save_config(system)\n",
    "ase.io.write(\"system.extxyz\", current_config, format=\"extxyz\")\n",
    "ase.io.write(\"system.pdb\", current_config)"
   ]
  },
  {
   "cell_type": "code",
   "execution_count": 17,
   "metadata": {},
   "outputs": [
    {
     "data": {
      "application/vnd.jupyter.widget-view+json": {
       "model_id": "26b8419099c6439e9a1c9be1f5455abf",
       "version_major": 2,
       "version_minor": 0
      },
      "text/plain": [
       "NGLWidget(count=500)"
      ]
     },
     "metadata": {},
     "output_type": "display_data"
    }
   ],
   "source": [
    "p_traj = pt.load('dump.dcd', top='system.pdb')\n",
    "p_view = nv.show_pytraj(p_traj)\n",
    "p_view"
   ]
  },
  {
   "cell_type": "markdown",
   "metadata": {},
   "source": [
    "### 8. Analysing results"
   ]
  },
  {
   "cell_type": "code",
   "execution_count": 18,
   "metadata": {},
   "outputs": [],
   "source": [
    "data = np.genfromtxt(fname='log-output.4.log', skip_header=True)\n",
    "# Remember:\n",
    "# quantities=['volume','lx','ly','lz','potential_energy','kinetic_energy','temperature','pressure']"
   ]
  },
  {
   "cell_type": "code",
   "execution_count": 19,
   "metadata": {},
   "outputs": [
    {
     "data": {
      "text/plain": [
       "Text(0, 0.5, 'volume')"
      ]
     },
     "execution_count": 19,
     "metadata": {},
     "output_type": "execute_result"
    },
    {
     "data": {
      "image/png": "[encoded data removed]",
      "text/plain": [
       "<Figure size 1600x800 with 1 Axes>"
      ]
     },
     "metadata": {
      "needs_background": "light"
     },
     "output_type": "display_data"
    }
   ],
   "source": [
    "pyplot.figure(figsize=(8,4), dpi=200)\n",
    "pyplot.plot(data[:,1])\n",
    "pyplot.xlabel('time step')\n",
    "pyplot.ylabel('volume')"
   ]
  },
  {
   "cell_type": "code",
   "execution_count": 20,
   "metadata": {},
   "outputs": [],
   "source": [
    "# Run for 10,000 time steps\n",
    "#hoomd.run(10e3)"
   ]
  }
 ],
 "metadata": {
  "kernelspec": {
   "display_name": "Python 3",
   "language": "python",
   "name": "python3"
  },
  "language_info": {
   "codemirror_mode": {
    "name": "ipython",
    "version": 3
   },
   "file_extension": ".py",
   "mimetype": "text/x-python",
   "name": "python",
   "nbconvert_exporter": "python",
   "pygments_lexer": "ipython3",
   "version": "3.7.3"
  }
 },
 "nbformat": 4,
 "nbformat_minor": 4
}
