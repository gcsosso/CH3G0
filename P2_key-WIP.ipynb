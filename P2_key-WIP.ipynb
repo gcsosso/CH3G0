{
 "cells": [
  {
   "cell_type": "markdown",
   "metadata": {},
   "source": [
    "# CH3G0"
   ]
  },
  {
   "cell_type": "markdown",
   "metadata": {},
   "source": [
    "# Unraveling the Atomistic Structure of Solid-Gas interfaces via Molecular Dynamics Simulations"
   ]
  },
  {
   "cell_type": "markdown",
   "metadata": {},
   "source": [
    "In this computational experiment you will use **molecular dynamics simulations** to investigate the structure of a Solid-Gas interface (modelled via two types of Lennard-Jones particles) at the atomistic level.\n",
    "\n",
    "You will use the Python-based Jupyter Notebook framework, leveraging Statistical Mechanics to compute several structural features of this system.\n",
    "\n",
    "This notebook outlines how to set up the MD simulation using the HOOMD-blue simulation package, and some tips on using the Atomic Simulation Environment (ASE) for handling atomic configurations.\n",
    "\n",
    "You can find further help, features and options on the Manual pages:  \n",
    "[HOOMD-blue page](https://hoomd-blue.readthedocs.io/en/stable/index.html)  \n",
    "[ASE page](https://wiki.fysik.dtu.dk/ase/index.html)"
   ]
  },
  {
   "cell_type": "markdown",
   "metadata": {},
   "source": [
    "**IMPORTANT!!!** Use **Google Chrome** to work on the notebook instead of using Microsoft Explorer. The latter handles the visualisation package incorrectly."
   ]
  },
  {
   "cell_type": "markdown",
   "metadata": {},
   "source": [
    "### Content \n",
    "\n",
    "`Check`\n",
    "\n",
    "1. Import necessary libraries and initialise HOOMD\n",
    "2. Set up the system: number of atoms, initial simulation box, initial structure \n",
    "3. Define interaction between particles: binary Lennard-Jones parameters, define cut off distance\n",
    "4. Set up the MD simulation and the ensemble: set the integrator, temperature, pressure\n",
    "5. Set the output format: output file and logged quantities\n",
    "6. Perform the simulation: run()\n",
    "7. Saving the atomic coordinates and visualising the system \n",
    "8. Analysing results\n",
    "9. Minimal working example"
   ]
  },
  {
   "cell_type": "markdown",
   "metadata": {},
   "source": [
    "## 1. Import necessary libraries and initialise HOOMD"
   ]
  },
  {
   "cell_type": "code",
   "execution_count": 1,
   "metadata": {
    "hideCode": false,
    "hidePrompt": false
   },
   "outputs": [],
   "source": [
    "# Import the hoomd python package and the md component we will use to perform MD simulations.\n",
    "import hoomd\n",
    "import hoomd.md\n",
    "\n",
    "import numpy as np\n",
    "import matplotlib.pyplot as plt\n",
    "import ase\n",
    "from ase import io\n",
    "from ase.visualize import view\n",
    "import pytraj as pt\n",
    "import nglview as nv\n",
    "from python_stuff import save_config"
   ]
  },
  {
   "cell_type": "markdown",
   "metadata": {},
   "source": [
    "We need to initialize the execution context to control where HOOMD will execute the simulation. We will run the simulations on the CPU (HOOMD also allows options for GPU, but we won't use them)."
   ]
  },
  {
   "cell_type": "code",
   "execution_count": 2,
   "metadata": {},
   "outputs": [
    {
     "name": "stdout",
     "output_type": "stream",
     "text": [
      "HOOMD-blue 2.9.0 DOUBLE HPMC_MIXED TBB SSE SSE2 SSE3 \n",
      "Compiled: 02/04/2020\n",
      "Copyright (c) 2009-2019 The Regents of the University of Michigan.\n",
      "-----\n",
      "You are using HOOMD-blue. Please cite the following:\n",
      "* J A Anderson, C D Lorenz, and A Travesset. \"General purpose molecular dynamics\n",
      "  simulations fully implemented on graphics processing units\", Journal of\n",
      "  Computational Physics 227 (2008) 5342--5359\n",
      "* J Glaser, T D Nguyen, J A Anderson, P Lui, F Spiga, J A Millan, D C Morse, and\n",
      "  S C Glotzer. \"Strong scaling of general-purpose molecular dynamics simulations\n",
      "  on GPUs\", Computer Physics Communications 192 (2015) 97--107\n",
      "-----\n",
      "HOOMD-blue is running on the CPU\n"
     ]
    }
   ],
   "source": [
    "hoomd.context.initialize('--mode=cpu');"
   ]
  },
  {
   "cell_type": "code",
   "execution_count": 3,
   "metadata": {},
   "outputs": [
    {
     "name": "stdout",
     "output_type": "stream",
     "text": [
      "notice(2): Group \"all\" created containing 864 particles\n"
     ]
    }
   ],
   "source": [
    "# Read the initial configuration...\n",
    "pdb = io.read('initial_configuration.pdb')\n",
    "pos = pdb.get_positions() # get the atomic positions from the .pdb file \n",
    "pos = pos.tolist() # re-format the positions array in a hoomd-friendly format\n",
    "n_at = len(pos) # get the number of atoms from the .pdb file \n",
    "\n",
    "# Rename the atomic species. ASE won't read 'A' or 'B' particles, as these\n",
    "# are not valid element symbols, but hoomd likes 'A' and 'B', so...\n",
    "typ = []\n",
    "for i in range (0,int(n_at/2)):\n",
    "    typ.append('A')\n",
    "for i in range (int(n_at/2),n_at):\n",
    "    typ.append('B')\n",
    "\n",
    "# Set the masses, all equal to 1 - a conversation about units...\n",
    "ms = []\n",
    "for i in range (0,int(n_at)):\n",
    "    ms.append(1.0)\n",
    "\n",
    "# Build the initial configuration for hoomd\n",
    "initial_cell = hoomd.lattice.unitcell(N = n_at, a1 = pdb.cell[0], a2 = pdb.cell[1], a3 = pdb.cell[2], \\\n",
    "                dimensions=3, position = pos, type_name = typ, mass = ms);\n",
    "\n",
    "system = hoomd.init.create_lattice(unitcell=initial_cell, n=1);"
   ]
  },
  {
   "cell_type": "markdown",
   "metadata": {
    "hideCode": false,
    "hidePrompt": false
   },
   "source": [
    "It is useful to check parameters of the system: the following can be used to extract the types of atoms, number of atoms and the dimensions of the simulation box. It is also usually a good idea to inspect the initial system visually - check section **7: Saving the atomic coordinates and visualising the system** for tips on how to do this."
   ]
  },
  {
   "cell_type": "code",
   "execution_count": 4,
   "metadata": {
    "hideCode": false,
    "hidePrompt": false
   },
   "outputs": [
    {
     "name": "stdout",
     "output_type": "stream",
     "text": [
      "Particle types: ['A', 'B']\n",
      "ParticleData: 864 particles\n",
      "Box: Lx=15.274 Ly=15.274 Lz=50.0 xy=0.0 xz=0.0 yz=0.0 dimensions=3\n"
     ]
    }
   ],
   "source": [
    "print(system.particles.types)\n",
    "print(system.particles.pdata)\n",
    "print(system.box)"
   ]
  },
  {
   "cell_type": "markdown",
   "metadata": {
    "hideCode": false,
    "hidePrompt": false
   },
   "source": [
    "Now it's time to have a look at our system. Due to some technicalities, we had to write a function, `save_config`, which takes care of HOOMD internal formats so that we can display it via [nglview](https://github.com/arose/nglview). There's more information in **section 7** about visualisation, check that out!"
   ]
  },
  {
   "cell_type": "code",
   "execution_count": 5,
   "metadata": {
    "hideCode": false,
    "hidePrompt": false
   },
   "outputs": [
    {
     "data": {
      "application/vnd.jupyter.widget-view+json": {
       "model_id": "14e5f7f080134fb4af44551c9eb1c43e",
       "version_major": 2,
       "version_minor": 0
      },
      "text/plain": [
       "NGLWidget()"
      ]
     },
     "metadata": {},
     "output_type": "display_data"
    }
   ],
   "source": [
    "current_config = save_config(system)\n",
    "ase.io.write(\"system.pdb\", current_config)\n",
    "\n",
    "p_traj = pt.load('system.pdb')\n",
    "p_view = nv.show_pytraj(p_traj)\n",
    "p_view.add_unitcell()\n",
    "p_view"
   ]
  },
  {
   "cell_type": "markdown",
   "metadata": {
    "hideCode": false,
    "hidePrompt": false
   },
   "source": [
    "## 3. Define interaction between particles\n",
    "\n",
    "To be able to calculate the potential, atomic distances will have to be calculated first. Most simulation codes use some kind of method to keep track of pairs of atoms, and create a neighbour list. We can choose from different methods implemented in HOOMD, but for the present system, the so called cell method will perform the best, so lets set this one:"
   ]
  },
  {
   "cell_type": "code",
   "execution_count": 6,
   "metadata": {
    "hideCode": false,
    "hidePrompt": false
   },
   "outputs": [],
   "source": [
    "nl = hoomd.md.nlist.cell()"
   ]
  },
  {
   "cell_type": "markdown",
   "metadata": {
    "hideCode": false,
    "hidePrompt": false
   },
   "source": [
    "The next step is to initialise the Lennard-Jones potential, and set the cutoff distance, ``r_cut``. If two atoms are further away from each other than this distance, their pair energy contributaion is zero. To allow sufficent distance for interaction, do not set ``r_cut`` to be smaller than 2.5. Note: HOOMD uses the minimum image convention, thus the interaction sphere defined by the cutoff distance can never span beyond the simulation box. (Thus, ``r_cut`` has to be smaller than half of any of the box lengths (``Lx, Ly, Lz``) at **any point** during the simulation, otherwise you'll receive an error message.)"
   ]
  },
  {
   "cell_type": "code",
   "execution_count": 7,
   "metadata": {
    "hideCode": false,
    "hidePrompt": false
   },
   "outputs": [],
   "source": [
    "lj = hoomd.md.pair.lj(r_cut=2.5, nlist=nl) # define potential"
   ]
  },
  {
   "cell_type": "markdown",
   "metadata": {
    "hideCode": false,
    "hidePrompt": false
   },
   "source": [
    "Set the Lennard-Jones interaction parameters, $\\sigma$ and $\\epsilon$, for all combinations of pair types. Since these parameters also determine the energy and distance scale of the simulation (temperature is in $kT/\\epsilon$ units, and pressure is in $P\\sigma^3/\\epsilon$ units), set $\\sigma=1.0$ and $\\epsilon=1.0$ to the ``'A','A'`` pair, so no further unit conversion will be necessary."
   ]
  },
  {
   "cell_type": "code",
   "execution_count": 8,
   "metadata": {
    "hideCode": false,
    "hidePrompt": false
   },
   "outputs": [],
   "source": [
    "lj.pair_coeff.set('A', 'A', epsilon=1.0, sigma=1.0)\n",
    "lj.pair_coeff.set('A', 'B', epsilon=2.0, sigma=2.0) # set AB epsilon smaller than either AA or BB epsilon. \n",
    "lj.pair_coeff.set('B', 'B', epsilon=0.1, sigma=0.8)"
   ]
  },
  {
   "cell_type": "markdown",
   "metadata": {
    "hideCode": false,
    "hidePrompt": false
   },
   "source": [
    "## 4. Set up the MD simulation and the ensemble"
   ]
  },
  {
   "cell_type": "markdown",
   "metadata": {
    "hideCode": false,
    "hidePrompt": false
   },
   "source": [
    "First, we need to tell the code, that all particles are to be treated the same during the molecular dynamics steps (e.g. the same integrator to be used...etc.)"
   ]
  },
  {
   "cell_type": "code",
   "execution_count": 9,
   "metadata": {
    "hideCode": false,
    "hidePrompt": false
   },
   "outputs": [
    {
     "name": "stdout",
     "output_type": "stream",
     "text": [
      "notice(2): Group \"type B\" created containing 432 particles\n"
     ]
    }
   ],
   "source": [
    "all = hoomd.group.all()\n",
    "typeB = hoomd.group.type('B')"
   ]
  },
  {
   "cell_type": "markdown",
   "metadata": {
    "hideCode": false,
    "hidePrompt": false
   },
   "source": [
    "To integrate the system forward in time, an integration mode must be set. We will used the ``mode_standard``, where at each timestep, all of the specified forces are evaluated and used in moving the system forward to the next timestep.\n",
    "This is where we also set the length of one MD timestep the integrator will use."
   ]
  },
  {
   "cell_type": "code",
   "execution_count": 10,
   "metadata": {
    "hideCode": false,
    "hidePrompt": false
   },
   "outputs": [],
   "source": [
    "hoomd.md.integrate.mode_standard(dt=0.005);"
   ]
  },
  {
   "cell_type": "markdown",
   "metadata": {
    "hideCode": false,
    "hidePrompt": false
   },
   "source": [
    "There are a couple of further options we have to set, depending on whether we want to keep the volume or the pressure constant, how we want to set the temperature or pressure...etc. These are all set thorough the integrator. In HOOMD **only one** integration mode can be active at a time, and the last ``integrate`` command is the one that will take effect. It is possible to set one mode, run for a certain number of steps and then switch to another mode before the next run command."
   ]
  },
  {
   "cell_type": "markdown",
   "metadata": {
    "hideCode": false,
    "hidePrompt": false
   },
   "source": [
    "<b>(a) ($N$,$V$,$T$) simulation using the Langevin thermostat.</b>\n",
    "    ``kT`` is the temperature of the thermostat in energy units, ``seed`` is random number seed for initialising the random forces to be applied on the atoms."
   ]
  },
  {
   "cell_type": "code",
   "execution_count": 11,
   "metadata": {
    "hideCode": false,
    "hidePrompt": false
   },
   "outputs": [
    {
     "name": "stdout",
     "output_type": "stream",
     "text": [
      "notice(2): integrate.langevin/bd is using specified gamma values\n"
     ]
    }
   ],
   "source": [
    "nvt = hoomd.md.integrate.langevin(group=typeB, kT=0.8, seed=10)"
   ]
  },
  {
   "cell_type": "markdown",
   "metadata": {
    "hideCode": false,
    "hidePrompt": false
   },
   "source": [
    "<b>(b) ($N$,$P$,$T$) simulation using Martyna-Tobias-Klein equations of motion.</b> ``kT`` is the temperature of the thermostat in energy units, ``tau`` is the coupling constant of the thermostat in time units, ``P`` is the isotropic pressure in pressure units, ``tauP`` is the coupling constant of the barostat in time units. ``couple`` is the couplings of diagonal elements of the stress tensor: if it is ``none``, than all box lengths are updated independently, if it is ``xyz``, the ratios between all box lengths stay constant (the shape of the simulation cell will not change, just the volume)."
   ]
  },
  {
   "cell_type": "code",
   "execution_count": 12,
   "metadata": {
    "hideCode": false,
    "hidePrompt": false
   },
   "outputs": [],
   "source": [
    "npt = hoomd.md.integrate.npt(group=typeB, kT=0.8, tau=3.0, P=0.1, tauP = 3.0, couple=\"xyz\")"
   ]
  },
  {
   "cell_type": "markdown",
   "metadata": {
    "hideCode": false,
    "hidePrompt": false
   },
   "source": [
    "Parameters of the integrator can be changed between runs, e.g.: (Don't forget, that on changing the parameters you will need re-equilibrate the system!)"
   ]
  },
  {
   "cell_type": "code",
   "execution_count": 13,
   "metadata": {
    "hideCode": false,
    "hidePrompt": false
   },
   "outputs": [],
   "source": [
    "nvt.set_params(kT=0.6)\n",
    "npt.set_params(P=0.8)"
   ]
  },
  {
   "cell_type": "markdown",
   "metadata": {
    "hideCode": false,
    "hidePrompt": false
   },
   "source": [
    "The used integrator **has to** be disabled first, if switching to a different integrator (e.g. from nvt to npt or vica versa). This can be done as "
   ]
  },
  {
   "cell_type": "code",
   "execution_count": 14,
   "metadata": {
    "hideCode": false,
    "hidePrompt": false
   },
   "outputs": [],
   "source": [
    "# nvt.disable()"
   ]
  },
  {
   "cell_type": "code",
   "execution_count": 15,
   "metadata": {
    "hideCode": false,
    "hidePrompt": false
   },
   "outputs": [],
   "source": [
    "npt.disable()"
   ]
  },
  {
   "cell_type": "markdown",
   "metadata": {
    "hideCode": false,
    "hidePrompt": false
   },
   "source": [
    "**Tip:** The initial configuration is usually very far from the equilibrium, and to lessen large initial fluctuations, it is often a good idea to start off with a short ($N$,$V$,$T$) simulation before switching to the ($N$,$P$,$T$) ensemble.  "
   ]
  },
  {
   "cell_type": "markdown",
   "metadata": {
    "hideCode": false,
    "hidePrompt": false
   },
   "source": [
    "**Lennard-Jones phase diagram**\n",
    "Below is the pressure-temperature phase diagram of the one-component LJ model. For the binary LJ model this will not be exactly the same: the more the LJ parameters differ, the more the boiling and melting curve will change. Nevertheless, this is a good starting point to give you an idea of the pressure-temperature range where the model can be expected to form the liquid phase. Keep in mind that the pressure and temperature units now has to be expressed in length and energy units consistent with the Lennard-Jones model ($\\sigma$ as the length and $\\epsilon$ as energy).\n",
    "\n",
    "Finally, it is of course possible that you stumble on a __phase transition__:\n",
    "* If you start from an equilibrated liquid structure, and by changing $P$ or $T$ you see a dramatic increase in the volume (i.e. becomes ten times larger or more), check a snapshot of your box, it is possible that your system (or just one of the components, if the boiling point of A and B is different) evaporated. Do not panic, but include these findings in your conclusions, and adjust the temperature and pressure so that the other runs are in the liquid phase. \n",
    "* It is also possible, though more unlikely, that you find your system forming a highly symmetric crystalline phase at low temperatures or high pressures (do not confuse this with the initial structure you create!). Again, comment on these in your conclusion and adjust the $T$ and the $P$ parameters for the rest of the runs accordingly."
   ]
  },
  {
   "cell_type": "markdown",
   "metadata": {
    "hideCode": false,
    "hidePrompt": false
   },
   "source": [
    "## 5. Set the output format\n",
    "\n",
    "What quantities should be collected, how often, and where they should be saved during the MD simulation?"
   ]
  },
  {
   "cell_type": "markdown",
   "metadata": {
    "hideCode": false,
    "hidePrompt": false
   },
   "source": [
    "A number of quantities are calculated during a simulation, and these can be logged so we can check and analyse them later. A few example of useful quantities are below, you can choose which ones to include. The log file is a text file, with each column corresponding to the ``quantities`` defined, in the same order. Output data is written to the file line by line at every ``period`` timestep."
   ]
  },
  {
   "cell_type": "code",
   "execution_count": 16,
   "metadata": {
    "hideCode": false,
    "hidePrompt": false
   },
   "outputs": [],
   "source": [
    "quantities=['volume','lx','ly','lz','potential_energy','kinetic_energy','temperature','pressure']"
   ]
  },
  {
   "cell_type": "code",
   "execution_count": 45,
   "metadata": {
    "hideCode": false,
    "hidePrompt": false
   },
   "outputs": [],
   "source": [
    "t_dump = 100\n",
    "\n",
    "hoomd.analyze.log(filename=\"log-output.4.log\",\n",
    "                  quantities=quantities,\n",
    "                  period=t_dump,\n",
    "                  overwrite=True) # keep appending the existing file"
   ]
  },
  {
   "cell_type": "code",
   "execution_count": 18,
   "metadata": {
    "hideCode": false,
    "hidePrompt": false
   },
   "outputs": [],
   "source": [
    "d = hoomd.dump.dcd(\"dump.dcd\", period=100, group=all, overwrite=True, unwrap_full=False);"
   ]
  },
  {
   "cell_type": "markdown",
   "metadata": {
    "hideCode": false,
    "hidePrompt": false
   },
   "source": [
    "## 6. Perform the simulation"
   ]
  },
  {
   "cell_type": "markdown",
   "metadata": {
    "hideCode": false,
    "hidePrompt": false
   },
   "source": [
    "When all is set, you can start the actual molecular dynamics simulation. The following simple command performs ``10000`` MD timesteps with the parameters set so far."
   ]
  },
  {
   "cell_type": "code",
   "execution_count": 33,
   "metadata": {
    "hideCode": false,
    "hidePrompt": false
   },
   "outputs": [],
   "source": [
    "n_tsteps = 10000\n",
    "hoomd.run(n_tsteps)"
   ]
  },
  {
   "cell_type": "markdown",
   "metadata": {
    "hideCode": false,
    "hidePrompt": false
   },
   "source": [
    "``10000`` steps should take less than a minute. If you perform the ``hoomd.run()`` command again, the simulation will continue from the last configuration available. Between ``hoomd.run()`` commands you can (and are strongly encouraged) to check the status of the simulation (e.g. how the potential energy, the volume, the temperature...etc. changes. Do they fluctuate widely or converged around a value?). "
   ]
  },
  {
   "cell_type": "markdown",
   "metadata": {
    "hideCode": false,
    "hidePrompt": false
   },
   "source": [
    "## 7. Saving the atomic coordinates and visualising the system "
   ]
  },
  {
   "cell_type": "markdown",
   "metadata": {
    "hideCode": false,
    "hidePrompt": false
   },
   "source": [
    "HOOMD uses its own binary file format to save configurations file, which would be difficult to handle without additional separate programs, so we will make use of the Atomic Simulation Environment (ASE) to save configurations and analyse them. \n",
    "The short ``save_config`` function below extracts the simulation box parameters and the atomic coordinates from the hoomd ``system`` we have defined, and creates an atoms object from it. \n",
    "\n",
    "**Note:** ASE expects real atomic symbols as atom types, thus ``A`` and ``B`` will not work. You are free to choose which elements are to represent your LJ particles, it will only effect the visualisation and how you refer to the atoms during the analysis code. "
   ]
  },
  {
   "cell_type": "markdown",
   "metadata": {
    "hideCode": false,
    "hidePrompt": false
   },
   "source": [
    "You can convert the current state of the ``system`` to an atoms object, you can write this to a text file."
   ]
  },
  {
   "cell_type": "code",
   "execution_count": 20,
   "metadata": {
    "hideCode": false,
    "hidePrompt": false
   },
   "outputs": [],
   "source": [
    "ase.io.write(\"system.pdb\", current_config)"
   ]
  },
  {
   "cell_type": "markdown",
   "metadata": {
    "hideCode": false,
    "hidePrompt": false
   },
   "source": [
    "Now let's have a look at the trajectory..."
   ]
  },
  {
   "cell_type": "code",
   "execution_count": 21,
   "metadata": {
    "hideCode": false,
    "hidePrompt": false,
    "scrolled": true
   },
   "outputs": [
    {
     "data": {
      "application/vnd.jupyter.widget-view+json": {
       "model_id": "259a704e22bb4bdc88cfa32fe8fef84f",
       "version_major": 2,
       "version_minor": 0
      },
      "text/plain": [
       "NGLWidget(count=100)"
      ]
     },
     "metadata": {},
     "output_type": "display_data"
    }
   ],
   "source": [
    "p_traj = pt.load('dump.dcd', top='system.pdb')\n",
    "p_view = nv.show_pytraj(p_traj)\n",
    "p_view"
   ]
  },
  {
   "cell_type": "markdown",
   "metadata": {
    "hideCode": false,
    "hidePrompt": false
   },
   "source": [
    "## 8. Analysing results"
   ]
  },
  {
   "cell_type": "markdown",
   "metadata": {
    "hideCode": false,
    "hidePrompt": false
   },
   "source": [
    "Saved quantities can be e.g. read from the produced logfile, and plotted as required. Keep in mind that the order of the quantities is what you have defined at the point of creating the log, so can be different from the example below (the first column is always the timstep)."
   ]
  },
  {
   "cell_type": "code",
   "execution_count": 22,
   "metadata": {
    "hideCode": false,
    "hidePrompt": false
   },
   "outputs": [],
   "source": [
    "data = np.genfromtxt(fname='log-output.4.log', skip_header=True)\n",
    "# Remember:\n",
    "# quantities=['volume','lx','ly','lz','potential_energy','kinetic_energy','temperature','pressure']"
   ]
  },
  {
   "cell_type": "code",
   "execution_count": 55,
   "metadata": {
    "hideCode": false,
    "hidePrompt": false,
    "scrolled": false
   },
   "outputs": [
    {
     "data": {
      "image/png": "[encoded data removed]",
      "text/plain": [
       "<Figure size 900x600 with 1 Axes>"
      ]
     },
     "metadata": {},
     "output_type": "display_data"
    }
   ],
   "source": [
    "fig=plt.figure(num=None,figsize=(6,4),dpi=150,facecolor='w',edgecolor='k')\n",
    "\n",
    "plt.plot(data[:,7], color='deeppink')\n",
    "plt.title(\"Temperature\")\n",
    "# # plt.xlim(0.15)\n",
    "# plt.ylim(0,0.2)\n",
    "plt.xlabel('Time step',fontsize=12)\n",
    "plt.ylabel('Temperature [?]',fontsize=12)\n",
    "plt.show()"
   ]
  },
  {
   "cell_type": "markdown",
   "metadata": {
    "hideCode": false,
    "hidePrompt": false
   },
   "source": [
    "**Tips on handling the ASE atoms object**   \n",
    "Below are a couple of examples how to extract information from the atoms object."
   ]
  },
  {
   "cell_type": "code",
   "execution_count": 24,
   "metadata": {
    "hideCode": false,
    "hidePrompt": false
   },
   "outputs": [],
   "source": [
    "at_configuration=ase.io.read(\"system.extxyz\") # read atoms objects from file\n",
    "box=at_configuration.get_cell() # simulation box parameters (3*3 matrix)\n",
    "vol=at_configuration.get_volume() # volume of the simulation box\n",
    "pos=at_configuration.get_positions() # atomic coordinates\n",
    "N=len(at_configuration) # number of atoms\n",
    "at_type=at_configuration.get_chemical_symbols() # atom_type of each atom"
   ]
  },
  {
   "cell_type": "markdown",
   "metadata": {
    "hideCode": false,
    "hidePrompt": false
   },
   "source": [
    "ASE provides several tools to analyse structural properties of configurations, if necessary modules are loaded (``from ase.geometry.analysis import Analysis``) e.g. to calculate radial distribution functions. For further help on how to use these features, check the manual."
   ]
  },
  {
   "cell_type": "markdown",
   "metadata": {},
   "source": [
    "### Density profile"
   ]
  },
  {
   "cell_type": "code",
   "execution_count": 50,
   "metadata": {},
   "outputs": [],
   "source": [
    "# Density profile \n",
    "\n",
    "traj = pt.load('dump.dcd', top='system.pdb')\n",
    "z_length = pdb.cell[2,2]\n",
    "x_y_length = pdb.cell[0,0]\n",
    "z_min = -z_length/2 # Hoomd centers the box...\n",
    "z_max = z_length/2\n",
    "delta_z = 0.1\n",
    "n_z = int((z_max-z_min)/delta_z)\n",
    "z_mesh = np.linspace(z_min,z_max,n_z)\n",
    "z_profile = np.zeros((len(z_mesh),2))\n",
    "\n",
    "skip =10 # impatient!\n",
    "\n",
    "for i in range(0,n_z):\n",
    "    z_profile[i,0] = z_mesh[i]\n",
    "\n",
    "n_frames = int(n_tsteps / t_dump)\n",
    "counter = 0\n",
    "f_init = 10\n",
    "\n",
    "for k in range(f_init,n_frames,skip):\n",
    "    counter = counter+1\n",
    "    frame = traj[k]\n",
    "    r = np.array(frame.xyz)\n",
    "    for i in range(0,n_z):\n",
    "        for j in range(0,n_at):\n",
    "            if r[j,2] >= z_mesh[i] and r[j,2] < z_mesh[i+1]:\n",
    "                z_profile[i,1] = z_profile[i,1] + 1\n",
    "\n",
    "z_profile[:,1] = z_profile[:,1] / (x_y_length*x_y_length*delta_z*counter)"
   ]
  },
  {
   "cell_type": "code",
   "execution_count": 54,
   "metadata": {},
   "outputs": [
    {
     "data": {
      "image/png": "[encoded data removed]",
      "text/plain": [
       "<Figure size 900x600 with 1 Axes>"
      ]
     },
     "metadata": {},
     "output_type": "display_data"
    }
   ],
   "source": [
    "fig=plt.figure(num=None,figsize=(6,4),dpi=150,facecolor='w',edgecolor='k')\n",
    "\n",
    "plt.plot(z_profile[:,0],z_profile[:,1], color='deeppink')\n",
    "plt.title(\"Density profile\")\n",
    "# plt.xlim(0.15)\n",
    "plt.ylim(0,0.2)\n",
    "plt.xlabel('r [arb units]',fontsize=12)\n",
    "plt.ylabel('Density [length$^{-3}$]',fontsize=12)\n",
    "plt.show()"
   ]
  }
 ],
 "metadata": {
  "hide_code_all_hidden": false,
  "kernelspec": {
   "display_name": "Python 3",
   "language": "python",
   "name": "python3"
  },
  "language_info": {
   "codemirror_mode": {
    "name": "ipython",
    "version": 3
   },
   "file_extension": ".py",
   "mimetype": "text/x-python",
   "name": "python",
   "nbconvert_exporter": "python",
   "pygments_lexer": "ipython3",
   "version": "3.7.3"
  }
 },
 "nbformat": 4,
 "nbformat_minor": 4
}
