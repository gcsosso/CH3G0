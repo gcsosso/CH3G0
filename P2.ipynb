{
 "cells": [
  {
   "cell_type": "markdown",
   "metadata": {},
   "source": [
    "# CH3G0"
   ]
  },
  {
   "cell_type": "markdown",
   "metadata": {},
   "source": [
    "# Unraveling the Atomistic Structure of Solid-Fluid interfaces via Molecular Dynamics Simulations"
   ]
  },
  {
   "cell_type": "markdown",
   "metadata": {},
   "source": [
    "In this computational experiment you will use **molecular dynamics simulations** to investigate the structure of a Solid-Fluid interface (modelled via two types of Lennard-Jones particles) at the atomistic level.\n",
    "\n",
    "You will use the Python-based Jupyter Notebook framework, leveraging Statistical Mechanics to compute several structural features of this system.\n",
    "\n",
    "This notebook outlines how to set up the MD simulation using the HOOMD-blue simulation package, and some tips on using the Atomic Simulation Environment (ASE) for handling atomic configurations.\n",
    "\n",
    "You can find further help, features and options on the Manual pages:  \n",
    "[HOOMD-blue page](https://hoomd-blue.readthedocs.io/en/stable/index.html)  \n",
    "[ASE page](https://wiki.fysik.dtu.dk/ase/index.html)"
   ]
  },
  {
   "cell_type": "markdown",
   "metadata": {},
   "source": [
    "**IMPORTANT!!!** Use **Google Chrome** to work on the notebook instead of using Microsoft Explorer. The latter handles the visualisation package incorrectly."
   ]
  },
  {
   "cell_type": "markdown",
   "metadata": {},
   "source": [
    "### Content \n",
    "\n",
    "1. Import necessary libraries and initialise HOOMD\n",
    "2. Set up the system: number of atoms, initial simulation box, initial structure \n",
    "3. Define interaction between particles: binary Lennard-Jones parameters, define cut off distance\n",
    "4. Set up the MD simulation and the ensemble: set the integrator, temperature, pressure\n",
    "5. Set the output format: output file and logged quantities\n",
    "6. Perform the simulation: run()\n",
    "7. Saving the atomic coordinates and visualising the system \n",
    "8. Analysing results"
   ]
  },
  {
   "cell_type": "markdown",
   "metadata": {},
   "source": [
    "## 1. Import necessary libraries and initialise HOOMD"
   ]
  },
  {
   "cell_type": "code",
   "execution_count": 1,
   "metadata": {
    "hideCode": false,
    "hidePrompt": false
   },
   "outputs": [
    {
     "data": {
      "application/vnd.jupyter.widget-view+json": {
       "model_id": "ffe8d25301ce4802999574851b5a6fee",
       "version_major": 2,
       "version_minor": 0
      },
      "text/plain": [
       "_ColormakerRegistry()"
      ]
     },
     "metadata": {},
     "output_type": "display_data"
    }
   ],
   "source": [
    "# Import the hoomd python package and the md component we will use to perform MD simulations.\n",
    "import hoomd\n",
    "import hoomd.md\n",
    "\n",
    "import numpy as np\n",
    "import matplotlib.pyplot as plt\n",
    "import ase\n",
    "from ase import io\n",
    "from ase.visualize import view\n",
    "import pytraj as pt\n",
    "import nglview as nv\n",
    "from python_stuff import save_config"
   ]
  },
  {
   "cell_type": "markdown",
   "metadata": {},
   "source": [
    "We need to initialize the execution context to control where HOOMD will execute the simulation. We will run the simulations on the CPU (HOOMD also allows options for GPU, but we won't use them)."
   ]
  },
  {
   "cell_type": "code",
   "execution_count": 2,
   "metadata": {},
   "outputs": [
    {
     "name": "stdout",
     "output_type": "stream",
     "text": [
      "HOOMD-blue v2.8.0-2-gff981a78f DOUBLE HPMC_MIXED SSE SSE2 SSE3 SSE4_1 \n",
      "Compiled: 15/11/2019\n",
      "Copyright (c) 2009-2019 The Regents of the University of Michigan.\n",
      "-----\n",
      "You are using HOOMD-blue. Please cite the following:\n",
      "* J A Anderson, C D Lorenz, and A Travesset. \"General purpose molecular dynamics\n",
      "  simulations fully implemented on graphics processing units\", Journal of\n",
      "  Computational Physics 227 (2008) 5342--5359\n",
      "* J Glaser, T D Nguyen, J A Anderson, P Liu, F Spiga, J A Millan, D C Morse, and\n",
      "  S C Glotzer. \"Strong scaling of general-purpose molecular dynamics simulations\n",
      "  on GPUs\", Computer Physics Communications 192 (2015) 97--107\n",
      "-----\n",
      "HOOMD-blue is running on the CPU\n"
     ]
    }
   ],
   "source": [
    "hoomd.context.initialize('--mode=cpu');"
   ]
  },
  {
   "cell_type": "markdown",
   "metadata": {},
   "source": [
    "## 2. Set up the system: number of atoms, initial simulation box, initial structure"
   ]
  },
  {
   "cell_type": "code",
   "execution_count": 3,
   "metadata": {},
   "outputs": [
    {
     "name": "stdout",
     "output_type": "stream",
     "text": [
      "notice(2): Group \"all\" created containing 864 particles\n"
     ]
    }
   ],
   "source": [
    "# Read the initial configuration...\n",
    "pdb = io.read('initial_configuration.pdb')\n",
    "pos = pdb.get_positions() # get the atomic positions from the .pdb file \n",
    "pos = pos.tolist() # re-format the positions array in a hoomd-friendly format\n",
    "n_at = len(pos) # get the number of atoms from the .pdb file \n",
    "\n",
    "# Rename the atomic species. ASE won't read 'A' or 'B' particles, as these\n",
    "# are not valid element symbols, but hoomd likes 'A' and 'B', so...\n",
    "typ = []\n",
    "for i in range (0,int(n_at/2)):\n",
    "    typ.append('A')\n",
    "for i in range (int(n_at/2),n_at):\n",
    "    typ.append('B')\n",
    "\n",
    "# Set the masses, all equal to 1 - a conversation about units...\n",
    "ms = []\n",
    "for i in range (0,int(n_at)):\n",
    "    ms.append(1.0)\n",
    "\n",
    "# Build the initial configuration for hoomd\n",
    "initial_cell = hoomd.lattice.unitcell(N = n_at, a1 = pdb.cell[0], a2 = pdb.cell[1], a3 = pdb.cell[2], \\\n",
    "                dimensions=3, position = pos, type_name = typ, mass = ms);\n",
    "\n",
    "system = hoomd.init.create_lattice(unitcell=initial_cell, n=1);"
   ]
  },
  {
   "cell_type": "markdown",
   "metadata": {
    "hideCode": false,
    "hidePrompt": false
   },
   "source": [
    "It is useful to check parameters of the system: the following can be used to extract the types of atoms, number of atoms and the dimensions of the simulation box. It is also usually a good idea to inspect the initial system visually - check section **7: Saving the atomic coordinates and visualising the system** for tips on how to do this."
   ]
  },
  {
   "cell_type": "code",
   "execution_count": 4,
   "metadata": {
    "hideCode": false,
    "hidePrompt": false
   },
   "outputs": [
    {
     "name": "stdout",
     "output_type": "stream",
     "text": [
      "Particle types: ['A', 'B']\n",
      "ParticleData: 864 particles\n",
      "Box: Lx=15.274 Ly=15.274 Lz=50.0 xy=0.0 xz=0.0 yz=0.0 dimensions=3\n"
     ]
    }
   ],
   "source": [
    "print(system.particles.types)\n",
    "print(system.particles.pdata)\n",
    "print(system.box)"
   ]
  },
  {
   "cell_type": "markdown",
   "metadata": {
    "hideCode": false,
    "hidePrompt": false
   },
   "source": [
    "Now it's time to have a look at our system. Due to some technicalities, we had to write a function, `save_config`, which takes care of HOOMD internal formats so that we can display it via [nglview](https://github.com/arose/nglview). There's more information in **section 7** about visualisation, check that out!"
   ]
  },
  {
   "cell_type": "code",
   "execution_count": 5,
   "metadata": {
    "hideCode": false,
    "hidePrompt": false
   },
   "outputs": [
    {
     "data": {
      "application/vnd.jupyter.widget-view+json": {
       "model_id": "0a0fc81b4d5248efbd660e71d6f03998",
       "version_major": 2,
       "version_minor": 0
      },
      "text/plain": [
       "NGLWidget()"
      ]
     },
     "metadata": {},
     "output_type": "display_data"
    }
   ],
   "source": [
    "current_config = save_config(system)\n",
    "ase.io.write(\"system.pdb\", current_config)\n",
    "\n",
    "p_traj = pt.load('system.pdb')\n",
    "p_view = nv.show_pytraj(p_traj)\n",
    "p_view.add_unitcell()\n",
    "p_view"
   ]
  },
  {
   "cell_type": "markdown",
   "metadata": {
    "hideCode": false,
    "hidePrompt": false
   },
   "source": [
    "## 3. Define interaction between particles: binary Lennard-Jones parameters, define cut off distance\n",
    "\n",
    "To be able to calculate the potential, atomic distances will have to be calculated first. Most simulation codes use some kind of method to keep track of pairs of atoms, and create a neighbour list. We can choose from different methods implemented in HOOMD, but for the present system, the so called cell method will perform the best, so lets set this one:"
   ]
  },
  {
   "cell_type": "code",
   "execution_count": 6,
   "metadata": {
    "hideCode": false,
    "hidePrompt": false
   },
   "outputs": [],
   "source": [
    "nl = hoomd.md.nlist.cell()"
   ]
  },
  {
   "cell_type": "markdown",
   "metadata": {
    "hideCode": false,
    "hidePrompt": false
   },
   "source": [
    "The next step is to initialise the Lennard-Jones potential, and set the cutoff distance, ``r_cut``. If two atoms are further away from each other than this distance, their pair energy contribution is zero. To allow sufficent distance for interaction, do not set ``r_cut`` to be smaller than 2.5. Note: HOOMD uses the minimum image convention, thus the interaction sphere defined by the cutoff distance can never span beyond the simulation box. (Thus, ``r_cut`` has to be smaller than half of any of the box lengths (``Lx, Ly, Lz``) at **any point** during the simulation, otherwise you'll receive an error message.)"
   ]
  },
  {
   "cell_type": "code",
   "execution_count": 7,
   "metadata": {
    "hideCode": false,
    "hidePrompt": false
   },
   "outputs": [],
   "source": [
    "lj = hoomd.md.pair.lj(r_cut=2.5, nlist=nl) # define potential"
   ]
  },
  {
   "cell_type": "markdown",
   "metadata": {
    "hideCode": false,
    "hidePrompt": false
   },
   "source": [
    "Set the Lennard-Jones interaction parameters, $\\sigma$ and $\\epsilon$, for all combinations of pair types. Since these parameters also determine the energy and distance scale of the simulation (temperature is in $kT/\\epsilon$ units, and pressure is in $P\\sigma^3/\\epsilon$ units), set $\\sigma=1.0$ and $\\epsilon=1.0$ to the ``'A','A'`` pair, so no further unit conversion will be necessary."
   ]
  },
  {
   "cell_type": "code",
   "execution_count": 8,
   "metadata": {
    "hideCode": false,
    "hidePrompt": false
   },
   "outputs": [],
   "source": [
    "lj.pair_coeff.set('A', 'A', epsilon=1.0, sigma=1.0)\n",
    "lj.pair_coeff.set('A', 'B', epsilon=2.0, sigma=2.0)\n",
    "lj.pair_coeff.set('B', 'B', epsilon=0.1, sigma=0.8)"
   ]
  },
  {
   "cell_type": "markdown",
   "metadata": {
    "hideCode": false,
    "hidePrompt": false
   },
   "source": [
    "## 4. Set up the MD simulation and the ensemble: set the integrator and temperature"
   ]
  },
  {
   "cell_type": "markdown",
   "metadata": {
    "hideCode": false,
    "hidePrompt": false
   },
   "source": [
    "First, we need to tell the simulation engine whether all particles are to be treated by the same during the molecular dynamics steps (e.g. the same integrator to be used...etc.), or we use different parts of the system to be treated differently. In the current system we want to make sure that the solid phase is preserved, so we will keep all 'A' type atoms fixed, so we will apply the integrator only the 'B' type atoms forming the fluid phase."
   ]
  },
  {
   "cell_type": "code",
   "execution_count": 9,
   "metadata": {
    "hideCode": false,
    "hidePrompt": false
   },
   "outputs": [
    {
     "name": "stdout",
     "output_type": "stream",
     "text": [
      "notice(2): Group \"type B\" created containing 432 particles\n"
     ]
    }
   ],
   "source": [
    "all = hoomd.group.all()\n",
    "typeB = hoomd.group.type('B')"
   ]
  },
  {
   "cell_type": "markdown",
   "metadata": {
    "hideCode": false,
    "hidePrompt": false
   },
   "source": [
    "To integrate the system forward in time, an integration mode must be set. We will used the ``mode_standard``, where at each timestep, all of the specified forces are evaluated and used in moving the system forward to the next timestep.\n",
    "This is where we also set the length of one MD timestep the integrator will use."
   ]
  },
  {
   "cell_type": "code",
   "execution_count": 10,
   "metadata": {
    "hideCode": false,
    "hidePrompt": false
   },
   "outputs": [],
   "source": [
    "hoomd.md.integrate.mode_standard(dt=0.005);"
   ]
  },
  {
   "cell_type": "markdown",
   "metadata": {
    "hideCode": false,
    "hidePrompt": false
   },
   "source": [
    "There are a couple of further options we have to set, depending on whether we want to keep the volume or the pressure constant, how we want to set the temperature or pressure...etc. These are all set through the integrator. In HOOMD **only one** integration mode can be active at a time, and the last ``integrate`` command is the one that will take effect. In the current work, we have fixed solid phase and hence we will keep the volume fixed during the simulation. "
   ]
  },
  {
   "cell_type": "markdown",
   "metadata": {
    "hideCode": false,
    "hidePrompt": false
   },
   "source": [
    "<b> ($N$,$V$,$T$) simulation using the Langevin thermostat.</b>\n",
    "    ``kT`` is the temperature of the thermostat in energy units, ``seed`` is random number seed for initialising the random forces to be applied on the atoms. Integrator applied to the group of 'B' atoms only."
   ]
  },
  {
   "cell_type": "code",
   "execution_count": 11,
   "metadata": {
    "hideCode": false,
    "hidePrompt": false
   },
   "outputs": [
    {
     "name": "stdout",
     "output_type": "stream",
     "text": [
      "notice(2): integrate.langevin/bd is using specified gamma values\n"
     ]
    }
   ],
   "source": [
    "nvt = hoomd.md.integrate.langevin(group=typeB, kT=0.8, seed=10)"
   ]
  },
  {
   "cell_type": "markdown",
   "metadata": {
    "hideCode": false,
    "hidePrompt": false
   },
   "source": [
    "**A note on temperature**\n",
    "Since we are working with the Lennard-Jones potential and hence working in Lennard-Jones units, temperature values sensible in this system will not resemble numerical values you would expect for a common material. \n",
    "\n",
    "With $\\sigma$ and $\\epsilon$ parameters both being set to 1.0, and considering the density our 'B' particles, the LJ model is a fluid above kT=0.6 (might form separate liquid and gas phases below kT=1.2, but mind that the gas phase in the our simulation box might just be an empty space, like a bubble.) Of course the phase transition temperature will depend on the LJ parameters you choose, but this is a good starting point to start experimneting with your system. **Do not forget to comment on your final choice of parameters and your findings if you have explored multiple values!** \n"
   ]
  },
  {
   "cell_type": "markdown",
   "metadata": {
    "hideCode": false,
    "hidePrompt": false
   },
   "source": [
    "## 5. Set the output format: output file and logged quantities\n",
    "\n",
    "What quantities should be collected, how often, and where they should be saved during the MD simulation?"
   ]
  },
  {
   "cell_type": "markdown",
   "metadata": {
    "hideCode": false,
    "hidePrompt": false
   },
   "source": [
    "A number of quantities are calculated during a simulation, and these can be logged so we can check and analyse them later. A few example of useful quantities are below, you can choose which ones to include. The log file is a text file, with each column corresponding to the ``quantities`` defined, in the same order. Output data is written to the file line by line at every ``period`` timestep."
   ]
  },
  {
   "cell_type": "code",
   "execution_count": 12,
   "metadata": {
    "hideCode": false,
    "hidePrompt": false
   },
   "outputs": [],
   "source": [
    "quantities=['volume','lx','ly','lz','potential_energy','kinetic_energy','temperature','pressure']"
   ]
  },
  {
   "cell_type": "code",
   "execution_count": 13,
   "metadata": {
    "hideCode": false,
    "hidePrompt": false
   },
   "outputs": [
    {
     "data": {
      "text/plain": [
       "<hoomd.analyze.log at 0x1324b4a90>"
      ]
     },
     "execution_count": 13,
     "metadata": {},
     "output_type": "execute_result"
    }
   ],
   "source": [
    "t_dump = 100\n",
    "\n",
    "hoomd.analyze.log(filename=\"log-output.4.log\",\n",
    "                  quantities=quantities,\n",
    "                  period=t_dump,\n",
    "                  overwrite=True) # keep appending the existing file"
   ]
  },
  {
   "cell_type": "code",
   "execution_count": 14,
   "metadata": {
    "hideCode": false,
    "hidePrompt": false
   },
   "outputs": [],
   "source": [
    "d = hoomd.dump.dcd(\"dump.dcd\", period=100, group=all, overwrite=True, unwrap_full=False);"
   ]
  },
  {
   "cell_type": "markdown",
   "metadata": {
    "hideCode": false,
    "hidePrompt": false
   },
   "source": [
    "## 6. Perform the simulation: run()"
   ]
  },
  {
   "cell_type": "markdown",
   "metadata": {
    "hideCode": false,
    "hidePrompt": false
   },
   "source": [
    "When all is set, you can start the actual molecular dynamics simulation. The following simple command performs ``10000`` MD timesteps with the parameters set so far."
   ]
  },
  {
   "cell_type": "code",
   "execution_count": 15,
   "metadata": {
    "hideCode": false,
    "hidePrompt": false
   },
   "outputs": [
    {
     "name": "stdout",
     "output_type": "stream",
     "text": [
      "notice(2): -- Neighborlist exclusion statistics -- :\n",
      "notice(2): Particles with 0 exclusions             : 864\n",
      "notice(2): Neighbors included by diameter          : no\n",
      "notice(2): Neighbors excluded when in the same body: no\n",
      "** starting run **\n",
      "Time 00:00:20 | Step 10000 / 10000 | TPS 4833.15 | ETA 00:00:00\n",
      "Average TPS: 4830.93\n",
      "---------\n",
      "-- Neighborlist stats:\n",
      "785 normal updates / 100 forced updates / 0 dangerous updates\n",
      "n_neigh_min: 0 / n_neigh_max: 12 / n_neigh_avg: 4.63657\n",
      "shortest rebuild period: 8\n",
      "-- Cell list stats:\n",
      "Dimension: 5, 5, 17\n",
      "n_min    : 0 / n_max: 6 / n_avg: 2.03294\n",
      "** run complete **\n"
     ]
    }
   ],
   "source": [
    "n_tsteps = 10000\n",
    "hoomd.run(n_tsteps)"
   ]
  },
  {
   "cell_type": "markdown",
   "metadata": {
    "hideCode": false,
    "hidePrompt": false
   },
   "source": [
    "``10000`` steps should take less than a minute. If you perform the ``hoomd.run()`` command again, the simulation will continue from the last configuration available. Between ``hoomd.run()`` commands you can (and are strongly encouraged) to check the status of the simulation (e.g. how the potential energy, the temperature...etc. changes. Do they fluctuate widely or converged around a value?). "
   ]
  },
  {
   "cell_type": "markdown",
   "metadata": {
    "hideCode": false,
    "hidePrompt": false
   },
   "source": [
    "## 7. Saving the atomic coordinates and visualising the system "
   ]
  },
  {
   "cell_type": "markdown",
   "metadata": {
    "hideCode": false,
    "hidePrompt": false
   },
   "source": [
    "HOOMD uses its own binary file format to save configurations file, which would be difficult to handle without additional separate programs, so we will make use of the Atomic Simulation Environment (ASE) to save configurations and analyse them. \n",
    "The short ``save_config`` function (in the python_stuff.py) extracts the simulation box parameters and the atomic coordinates from the hoomd ``system`` we have defined, and creates an atoms object from it. \n",
    "\n",
    "**Note:** ASE expects real atomic symbols as atom types, thus ``A`` and ``B`` will not work. You are free to choose which elements are to represent your LJ particles (the defaulyt in the function are carbon and fluorine), it will only effect the visualisation and how you refer to the atoms during the analysis code. "
   ]
  },
  {
   "cell_type": "markdown",
   "metadata": {
    "hideCode": false,
    "hidePrompt": false
   },
   "source": [
    "You can convert the current state of the ``system`` to an atoms object, you can write this to a text file."
   ]
  },
  {
   "cell_type": "code",
   "execution_count": 16,
   "metadata": {
    "hideCode": false,
    "hidePrompt": false
   },
   "outputs": [],
   "source": [
    "ase.io.write(\"system.pdb\", current_config)"
   ]
  },
  {
   "cell_type": "markdown",
   "metadata": {
    "hideCode": false,
    "hidePrompt": false
   },
   "source": [
    "Now let's have a look at the trajectory..."
   ]
  },
  {
   "cell_type": "code",
   "execution_count": 17,
   "metadata": {
    "hideCode": false,
    "hidePrompt": false,
    "scrolled": true
   },
   "outputs": [
    {
     "data": {
      "application/vnd.jupyter.widget-view+json": {
       "model_id": "d57d3bff3fc147dc94a0a5b4c586d621",
       "version_major": 2,
       "version_minor": 0
      },
      "text/plain": [
       "NGLWidget(max_frame=99)"
      ]
     },
     "metadata": {},
     "output_type": "display_data"
    }
   ],
   "source": [
    "p_traj = pt.load('dump.dcd', top='system.pdb')\n",
    "p_view = nv.show_pytraj(p_traj)\n",
    "p_view"
   ]
  },
  {
   "cell_type": "markdown",
   "metadata": {
    "hideCode": false,
    "hidePrompt": false
   },
   "source": [
    "## 8. Analysing results"
   ]
  },
  {
   "cell_type": "markdown",
   "metadata": {
    "hideCode": false,
    "hidePrompt": false
   },
   "source": [
    "Saved quantities can be e.g. read from the produced logfile, and plotted as required. Keep in mind that the order of the quantities is what you have defined at the point of creating the log, so can be different from the example below (the first column is always the timestep)."
   ]
  },
  {
   "cell_type": "code",
   "execution_count": 18,
   "metadata": {
    "hideCode": false,
    "hidePrompt": false
   },
   "outputs": [],
   "source": [
    "data = np.genfromtxt(fname='log-output.4.log', skip_header=True)\n",
    "# Remember:\n",
    "# quantities=['volume','lx','ly','lz','potential_energy','kinetic_energy','temperature','pressure']"
   ]
  },
  {
   "cell_type": "code",
   "execution_count": 19,
   "metadata": {
    "hideCode": false,
    "hidePrompt": false,
    "scrolled": false
   },
   "outputs": [
    {
     "data": {
      "image/png": "[encoded data removed]",
      "text/plain": [
       "<Figure size 900x600 with 1 Axes>"
      ]
     },
     "metadata": {},
     "output_type": "display_data"
    }
   ],
   "source": [
    "fig=plt.figure(num=None,figsize=(6,4),dpi=150,facecolor='w',edgecolor='k')\n",
    "\n",
    "plt.plot(data[:,7], color='deeppink')\n",
    "plt.title(\"Temperature\")\n",
    "# # plt.xlim(0.15)\n",
    "# plt.ylim(0,0.2)\n",
    "plt.xlabel('Time step',fontsize=12)\n",
    "plt.ylabel('Temperature [$k_b T / \\epsilon$]',fontsize=12)\n",
    "plt.show()"
   ]
  },
  {
   "cell_type": "markdown",
   "metadata": {
    "hideCode": false,
    "hidePrompt": false
   },
   "source": [
    "**Tips on handling the ASE atoms object**   \n",
    "Below are a couple of examples on how to extract information from the atoms object."
   ]
  },
  {
   "cell_type": "code",
   "execution_count": 20,
   "metadata": {
    "hideCode": false,
    "hidePrompt": false
   },
   "outputs": [],
   "source": [
    "at_configuration=ase.io.read(\"system.pdb\") # read atoms objects from file\n",
    "box=at_configuration.get_cell() # simulation box parameters (3*3 matrix)\n",
    "vol=at_configuration.get_volume() # volume of the simulation box\n",
    "pos=at_configuration.get_positions() # atomic coordinates\n",
    "N=len(at_configuration) # number of atoms\n",
    "at_type=at_configuration.get_chemical_symbols() # atom_type of each atom"
   ]
  },
  {
   "cell_type": "code",
   "execution_count": null,
   "metadata": {},
   "outputs": [],
   "source": []
  }
 ],
 "metadata": {
  "hide_code_all_hidden": false,
  "kernelspec": {
   "display_name": "Python 3",
   "language": "python",
   "name": "python3"
  },
  "language_info": {
   "codemirror_mode": {
    "name": "ipython",
    "version": 3
   },
   "file_extension": ".py",
   "mimetype": "text/x-python",
   "name": "python",
   "nbconvert_exporter": "python",
   "pygments_lexer": "ipython3",
   "version": "3.7.6"
  }
 },
 "nbformat": 4,
 "nbformat_minor": 4
}
